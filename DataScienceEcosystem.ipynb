{
 "cells": [
  {
   "cell_type": "code",
   "execution_count": 1,
   "id": "319d040f",
   "metadata": {},
   "outputs": [
    {
     "name": "stdout",
     "output_type": "stream",
     "text": [
      "Hello Peers\n"
     ]
    }
   ],
   "source": [
    "print (\"Hello Peers\")"
   ]
  },
  {
   "cell_type": "markdown",
   "id": "d776f05c",
   "metadata": {},
   "source": [
    "# **Data Science Tools and Ecosystem**"
   ]
  },
  {
   "cell_type": "markdown",
   "id": "0b683618",
   "metadata": {},
   "source": [
    "In this notebook, Data Science Tools and Ecosystem are summarized."
   ]
  },
  {
   "cell_type": "markdown",
   "id": "029b2352",
   "metadata": {},
   "source": [
    "### Objectives:"
   ]
  },
  {
   "cell_type": "markdown",
   "id": "db63b0d7",
   "metadata": {},
   "source": [
    "* To list the programming languages used in data science.\n",
    "* To list the programming libraries used in data science.\n",
    "* To list the data science development environments.\n",
    "* To show some basic arithmetic expressions in Python."
   ]
  },
  {
   "cell_type": "markdown",
   "id": "7c0bc9c0",
   "metadata": {},
   "source": [
    "Some of the popular ***languages*** that Data Scientists use are:"
   ]
  },
  {
   "cell_type": "markdown",
   "id": "ccdc0fea",
   "metadata": {},
   "source": [
    "1. Python\n",
    "2. R\n",
    "3. SQL\n",
    "4. Scala\n",
    "5. Java\n",
    "6. C++\n",
    "7. Julia\n",
    "8. Java Script\n",
    "9. Php\n",
    "10. Ruby\n"
   ]
  },
  {
   "cell_type": "markdown",
   "id": "9102d214",
   "metadata": {},
   "source": [
    "Some of the commonly used ***libraries*** used by Data Scientists include:"
   ]
  },
  {
   "cell_type": "markdown",
   "id": "482cb30f",
   "metadata": {},
   "source": [
    "1. Scientific Computing Libraries such as *Pandas and Numpy*"
   ]
  },
  {
   "cell_type": "markdown",
   "id": "ef2ccc6d",
   "metadata": {},
   "source": [
    "2. Visualization Libraries such as *Matplotlib and Seaborn*"
   ]
  },
  {
   "cell_type": "markdown",
   "id": "e3706d2d",
   "metadata": {},
   "source": [
    "3. High Level Machine/Deep Learning Libraries such as *Scikit-Learn and Keras*"
   ]
  },
  {
   "cell_type": "markdown",
   "id": "95495dca",
   "metadata": {},
   "source": [
    "4. Low Level Deep Learning Libraries such as *TensorFlow and Pytorch*"
   ]
  },
  {
   "cell_type": "markdown",
   "id": "a15157a0",
   "metadata": {},
   "source": [
    "***Other libraries*** used by data scientist include:\n",
    "\n",
    "5. APACHE SPARK LIBRARY\n",
    "6. SCALA LIBRARIES such as *Vegas and BigDL*\n",
    "7. R LIBRARIES such as *ggplot2*"
   ]
  },
  {
   "cell_type": "markdown",
   "id": "54417b82",
   "metadata": {},
   "source": [
    "The three major Data Science Development Environments are:"
   ]
  },
  {
   "cell_type": "markdown",
   "id": "01b48404",
   "metadata": {},
   "source": [
    "|Data Science Tools|\n",
    "-----------------------------\n",
    "|Jupyter|\n",
    "|R-Studio|\n",
    "|Spyder|"
   ]
  },
  {
   "cell_type": "markdown",
   "id": "1f5a10b3",
   "metadata": {},
   "source": [
    "### Below are a few examples of evaluating arithmetic expressions in Python"
   ]
  },
  {
   "cell_type": "code",
   "execution_count": 8,
   "id": "79360774",
   "metadata": {},
   "outputs": [
    {
     "data": {
      "text/plain": [
       "17"
      ]
     },
     "execution_count": 8,
     "metadata": {},
     "output_type": "execute_result"
    }
   ],
   "source": [
    "#This a simple arithmetic expression to mutiply then add integers\n",
    "(3*4)+5\n"
   ]
  },
  {
   "cell_type": "code",
   "execution_count": 12,
   "id": "6723c01a",
   "metadata": {
    "scrolled": true
   },
   "outputs": [
    {
     "data": {
      "text/plain": [
       "3.3333333333333335"
      ]
     },
     "execution_count": 12,
     "metadata": {},
     "output_type": "execute_result"
    }
   ],
   "source": [
    " #This will convert 200 minutes to hours by diving by 60\n",
    "200/60"
   ]
  },
  {
   "cell_type": "markdown",
   "id": "5058cebe",
   "metadata": {},
   "source": [
    "## Author"
   ]
  },
  {
   "cell_type": "markdown",
   "id": "2336c96a",
   "metadata": {},
   "source": [
    "Nicholas Wilson Eghagha"
   ]
  }
 ],
 "metadata": {
  "kernelspec": {
   "display_name": "Python 3 (ipykernel)",
   "language": "python",
   "name": "python3"
  },
  "language_info": {
   "codemirror_mode": {
    "name": "ipython",
    "version": 3
   },
   "file_extension": ".py",
   "mimetype": "text/x-python",
   "name": "python",
   "nbconvert_exporter": "python",
   "pygments_lexer": "ipython3",
   "version": "3.10.9"
  }
 },
 "nbformat": 4,
 "nbformat_minor": 5
}
